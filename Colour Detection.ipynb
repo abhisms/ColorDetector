{
 "cells": [
  {
   "cell_type": "code",
   "execution_count": null,
   "id": "e886bd24",
   "metadata": {},
   "outputs": [],
   "source": []
  },
  {
   "cell_type": "code",
   "execution_count": 16,
   "id": "163eb8bb",
   "metadata": {},
   "outputs": [
    {
     "name": "stdout",
     "output_type": "stream",
     "text": [
      "Color: Flavescent, RGB: (244, 244, 134)\n"
     ]
    }
   ],
   "source": [
    "import numpy as np\n",
    "import pandas as pd\n",
    "import cv2\n",
    "\n",
    "# Load the CSV file with color data\n",
    "color_data = pd.read_csv('colors.csv')\n",
    "\n",
    "# Function to calculate the color name based on RGB values\n",
    "def get_color_name(R, G, B):\n",
    "    min_distance = float('inf')\n",
    "    color_name = None\n",
    "    for i, row in color_data.iterrows():\n",
    "        distance = abs(R - row['R']) + abs(G - row['G']) + abs(B - row['B'])\n",
    "        if distance < min_distance:\n",
    "            min_distance = distance\n",
    "            color_name = row['color_name']\n",
    "    return color_name\n",
    "\n",
    "# Function to handle mouse events\n",
    "def mouse_event(event, x, y, flags, param):\n",
    "    if event == cv2.EVENT_LBUTTONDOWN:\n",
    "        # Get the RGB values of the pixel at the clicked position\n",
    "        B, G, R = img[y, x]\n",
    "        color_name = get_color_name(R, G, B)\n",
    "        print('Color: {}, RGB: ({}, {}, {})'.format(color_name, R, G, B))\n",
    "\n",
    "# Load the image\n",
    "# Replace with the correct path to your uploaded image\n",
    "img_path = 'C:\\\\users\\\\VIVOBOOK\\\\TestImg\\\\gold.jpg'  \n",
    "img = cv2.imread(img_path)\n",
    "\n",
    "# Create a window and set the mouse event handler\n",
    "cv2.namedWindow('image')\n",
    "cv2.setMouseCallback('image', mouse_event)\n",
    "\n",
    "# Display the image\n",
    "cv2.imshow('image', img)\n",
    "cv2.waitKey(0)\n",
    "cv2.destroyAllWindows()\n"
   ]
  },
  {
   "cell_type": "code",
   "execution_count": null,
   "id": "26bda017",
   "metadata": {},
   "outputs": [],
   "source": []
  }
 ],
 "metadata": {
  "kernelspec": {
   "display_name": "Python 3 (ipykernel)",
   "language": "python",
   "name": "python3"
  },
  "language_info": {
   "codemirror_mode": {
    "name": "ipython",
    "version": 3
   },
   "file_extension": ".py",
   "mimetype": "text/x-python",
   "name": "python",
   "nbconvert_exporter": "python",
   "pygments_lexer": "ipython3",
   "version": "3.9.13"
  }
 },
 "nbformat": 4,
 "nbformat_minor": 5
}
